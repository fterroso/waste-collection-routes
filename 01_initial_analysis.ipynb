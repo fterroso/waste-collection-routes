{
 "cells": [
  {
   "cell_type": "markdown",
   "metadata": {},
   "source": [
    "# Initial anaysis of the scale sensor data"
   ]
  },
  {
   "cell_type": "markdown",
   "metadata": {},
   "source": [
    "Import libraries to use in the project"
   ]
  },
  {
   "cell_type": "code",
   "execution_count": 1,
   "metadata": {},
   "outputs": [],
   "source": [
    "import pandas as pd\n",
    "import numpy as np\n",
    "import os\n",
    "\n",
    "from statsmodels.tsa.seasonal import seasonal_decompose\n",
    "\n",
    "import matplotlib as mpl\n",
    "import matplotlib.pyplot as plt\n",
    "%matplotlib inline\n",
    "\n",
    "#from fbprophet import Prophet\n",
    "\n",
    "from datetime import datetime, timedelta\n",
    "\n",
    "#from pmdarima.arima import auto_arima\n"
   ]
  },
  {
   "cell_type": "markdown",
   "metadata": {},
   "source": [
    "Here we read the csv data"
   ]
  },
  {
   "cell_type": "code",
   "execution_count": 2,
   "metadata": {},
   "outputs": [],
   "source": [
    "brew_data_df = pd.read_csv(os.path.join('data', '75556_brewmaster2_20210130201004_BZPJPluH5p.csv'),parse_dates=['createdAt'])\n",
    "brew_data_df = brew_data_df.drop(columns=['temperature', 'grind', 'note'])"
   ]
  },
  {
   "cell_type": "code",
   "execution_count": 3,
   "metadata": {},
   "outputs": [
    {
     "data": {
      "text/html": [
       "<div>\n",
       "<style scoped>\n",
       "    .dataframe tbody tr th:only-of-type {\n",
       "        vertical-align: middle;\n",
       "    }\n",
       "\n",
       "    .dataframe tbody tr th {\n",
       "        vertical-align: top;\n",
       "    }\n",
       "\n",
       "    .dataframe thead th {\n",
       "        text-align: right;\n",
       "    }\n",
       "</style>\n",
       "<table border=\"1\" class=\"dataframe\">\n",
       "  <thead>\n",
       "    <tr style=\"text-align: right;\">\n",
       "      <th></th>\n",
       "      <th>id</th>\n",
       "      <th>name</th>\n",
       "      <th>createdAt</th>\n",
       "      <th>tasty</th>\n",
       "      <th>total time</th>\n",
       "      <th>average flowrate</th>\n",
       "      <th>total weight</th>\n",
       "      <th>brew data</th>\n",
       "    </tr>\n",
       "  </thead>\n",
       "  <tbody>\n",
       "    <tr>\n",
       "      <th>0</th>\n",
       "      <td>7aLdTgeEWX</td>\n",
       "      <td>157</td>\n",
       "      <td>2021-01-30 19:12:38</td>\n",
       "      <td>4</td>\n",
       "      <td>2535</td>\n",
       "      <td>36.53</td>\n",
       "      <td>109.599998</td>\n",
       "      <td>0.00;0.00;0.00;0.00;0.00;0.00;0.00;0.00;0.00;0...</td>\n",
       "    </tr>\n",
       "    <tr>\n",
       "      <th>1</th>\n",
       "      <td>svIHr0vdP4</td>\n",
       "      <td>156</td>\n",
       "      <td>2021-01-30 18:13:01</td>\n",
       "      <td>4</td>\n",
       "      <td>3373</td>\n",
       "      <td>92.67</td>\n",
       "      <td>278.000000</td>\n",
       "      <td>0.00;0.00;0.00;0.00;0.00;0.00;0.00;0.00;0.00;0...</td>\n",
       "    </tr>\n",
       "    <tr>\n",
       "      <th>2</th>\n",
       "      <td>AT6LzAnzgJ</td>\n",
       "      <td>155</td>\n",
       "      <td>2021-01-30 18:03:08</td>\n",
       "      <td>4</td>\n",
       "      <td>361</td>\n",
       "      <td>7.07</td>\n",
       "      <td>49.500000</td>\n",
       "      <td>0.00;0.00;0.00;0.00;0.00;0.00;0.00;0.00;0.00;0...</td>\n",
       "    </tr>\n",
       "    <tr>\n",
       "      <th>3</th>\n",
       "      <td>wDscJtnyMU</td>\n",
       "      <td>154</td>\n",
       "      <td>2021-01-29 19:14:18</td>\n",
       "      <td>4</td>\n",
       "      <td>1260</td>\n",
       "      <td>17.46</td>\n",
       "      <td>122.199997</td>\n",
       "      <td>0.00;0.00;0.00;0.00;0.00;0.00;0.00;0.00;0.00;0...</td>\n",
       "    </tr>\n",
       "    <tr>\n",
       "      <th>4</th>\n",
       "      <td>FomU4RCCc5</td>\n",
       "      <td>153</td>\n",
       "      <td>2021-01-29 18:05:35</td>\n",
       "      <td>4</td>\n",
       "      <td>1659</td>\n",
       "      <td>26.57</td>\n",
       "      <td>79.699997</td>\n",
       "      <td>0.00;0.00;0.00;0.00;0.00;0.00;0.00;0.00;0.00;0...</td>\n",
       "    </tr>\n",
       "    <tr>\n",
       "      <th>...</th>\n",
       "      <td>...</td>\n",
       "      <td>...</td>\n",
       "      <td>...</td>\n",
       "      <td>...</td>\n",
       "      <td>...</td>\n",
       "      <td>...</td>\n",
       "      <td>...</td>\n",
       "      <td>...</td>\n",
       "    </tr>\n",
       "    <tr>\n",
       "      <th>171</th>\n",
       "      <td>GIhIPyhIFh</td>\n",
       "      <td>hello2</td>\n",
       "      <td>2020-02-24 18:58:56</td>\n",
       "      <td>4</td>\n",
       "      <td>966</td>\n",
       "      <td>7.14</td>\n",
       "      <td>35.700001</td>\n",
       "      <td>0.00;0.00;0.00;0.00;0.00;0.00;0.00;0.00;0.00;0...</td>\n",
       "    </tr>\n",
       "    <tr>\n",
       "      <th>172</th>\n",
       "      <td>QOnLyVtLAC</td>\n",
       "      <td>hello</td>\n",
       "      <td>2020-02-24 16:16:50</td>\n",
       "      <td>4</td>\n",
       "      <td>4359</td>\n",
       "      <td>27.66</td>\n",
       "      <td>193.600006</td>\n",
       "      <td>0.00;0.00;0.00;0.00;0.00;0.00;0.00;0.00;0.00;0...</td>\n",
       "    </tr>\n",
       "    <tr>\n",
       "      <th>173</th>\n",
       "      <td>I37RdnKrTS</td>\n",
       "      <td>test</td>\n",
       "      <td>2019-11-06 16:58:52</td>\n",
       "      <td>4</td>\n",
       "      <td>3864</td>\n",
       "      <td>32.80</td>\n",
       "      <td>196.800003</td>\n",
       "      <td>0.00;0.00;0.00;0.00;0.00;0.00;0.00;0.00;0.90;0...</td>\n",
       "    </tr>\n",
       "    <tr>\n",
       "      <th>174</th>\n",
       "      <td>UDaUHwzMye</td>\n",
       "      <td>test</td>\n",
       "      <td>2019-11-06 16:17:44</td>\n",
       "      <td>4</td>\n",
       "      <td>1598</td>\n",
       "      <td>8.55</td>\n",
       "      <td>17.100000</td>\n",
       "      <td>0.00;0.00;0.00;0.00;0.00;0.00;0.00;0.00;0.00;0...</td>\n",
       "    </tr>\n",
       "    <tr>\n",
       "      <th>175</th>\n",
       "      <td>eHMc1is7KT</td>\n",
       "      <td>test</td>\n",
       "      <td>2019-10-16 21:31:22</td>\n",
       "      <td>4</td>\n",
       "      <td>34</td>\n",
       "      <td>55.80</td>\n",
       "      <td>781.200012</td>\n",
       "      <td>0.50;0.50;0.00;0.00;0.00;0.00;0.00;0.70;4.40;1...</td>\n",
       "    </tr>\n",
       "  </tbody>\n",
       "</table>\n",
       "<p>176 rows × 8 columns</p>\n",
       "</div>"
      ],
      "text/plain": [
       "             id    name           createdAt  tasty  total time  \\\n",
       "0    7aLdTgeEWX     157 2021-01-30 19:12:38      4        2535   \n",
       "1    svIHr0vdP4     156 2021-01-30 18:13:01      4        3373   \n",
       "2    AT6LzAnzgJ     155 2021-01-30 18:03:08      4         361   \n",
       "3    wDscJtnyMU     154 2021-01-29 19:14:18      4        1260   \n",
       "4    FomU4RCCc5     153 2021-01-29 18:05:35      4        1659   \n",
       "..          ...     ...                 ...    ...         ...   \n",
       "171  GIhIPyhIFh  hello2 2020-02-24 18:58:56      4         966   \n",
       "172  QOnLyVtLAC   hello 2020-02-24 16:16:50      4        4359   \n",
       "173  I37RdnKrTS    test 2019-11-06 16:58:52      4        3864   \n",
       "174  UDaUHwzMye    test 2019-11-06 16:17:44      4        1598   \n",
       "175  eHMc1is7KT    test 2019-10-16 21:31:22      4          34   \n",
       "\n",
       "     average flowrate  total weight  \\\n",
       "0               36.53    109.599998   \n",
       "1               92.67    278.000000   \n",
       "2                7.07     49.500000   \n",
       "3               17.46    122.199997   \n",
       "4               26.57     79.699997   \n",
       "..                ...           ...   \n",
       "171              7.14     35.700001   \n",
       "172             27.66    193.600006   \n",
       "173             32.80    196.800003   \n",
       "174              8.55     17.100000   \n",
       "175             55.80    781.200012   \n",
       "\n",
       "                                             brew data  \n",
       "0    0.00;0.00;0.00;0.00;0.00;0.00;0.00;0.00;0.00;0...  \n",
       "1    0.00;0.00;0.00;0.00;0.00;0.00;0.00;0.00;0.00;0...  \n",
       "2    0.00;0.00;0.00;0.00;0.00;0.00;0.00;0.00;0.00;0...  \n",
       "3    0.00;0.00;0.00;0.00;0.00;0.00;0.00;0.00;0.00;0...  \n",
       "4    0.00;0.00;0.00;0.00;0.00;0.00;0.00;0.00;0.00;0...  \n",
       "..                                                 ...  \n",
       "171  0.00;0.00;0.00;0.00;0.00;0.00;0.00;0.00;0.00;0...  \n",
       "172  0.00;0.00;0.00;0.00;0.00;0.00;0.00;0.00;0.00;0...  \n",
       "173  0.00;0.00;0.00;0.00;0.00;0.00;0.00;0.00;0.90;0...  \n",
       "174  0.00;0.00;0.00;0.00;0.00;0.00;0.00;0.00;0.00;0...  \n",
       "175  0.50;0.50;0.00;0.00;0.00;0.00;0.00;0.70;4.40;1...  \n",
       "\n",
       "[176 rows x 8 columns]"
      ]
     },
     "execution_count": 3,
     "metadata": {},
     "output_type": "execute_result"
    }
   ],
   "source": [
    "brew_data_df"
   ]
  },
  {
   "cell_type": "code",
   "execution_count": 4,
   "metadata": {},
   "outputs": [
    {
     "name": "stdout",
     "output_type": "stream",
     "text": [
      "<class 'pandas.core.frame.DataFrame'>\n",
      "RangeIndex: 176 entries, 0 to 175\n",
      "Data columns (total 8 columns):\n",
      " #   Column            Non-Null Count  Dtype         \n",
      "---  ------            --------------  -----         \n",
      " 0   id                176 non-null    object        \n",
      " 1   name              176 non-null    object        \n",
      " 2   createdAt         176 non-null    datetime64[ns]\n",
      " 3   tasty             176 non-null    int64         \n",
      " 4   total time        176 non-null    int64         \n",
      " 5   average flowrate  176 non-null    float64       \n",
      " 6   total weight      176 non-null    float64       \n",
      " 7   brew data         176 non-null    object        \n",
      "dtypes: datetime64[ns](1), float64(2), int64(2), object(3)\n",
      "memory usage: 11.1+ KB\n"
     ]
    }
   ],
   "source": [
    "brew_data_df.info()"
   ]
  },
  {
   "cell_type": "code",
   "execution_count": 5,
   "metadata": {},
   "outputs": [
    {
     "data": {
      "text/plain": [
       "(Timestamp('2019-10-16 21:31:22'), Timestamp('2021-01-30 19:12:38'))"
      ]
     },
     "execution_count": 5,
     "metadata": {},
     "output_type": "execute_result"
    }
   ],
   "source": [
    "brew_data_df['createdAt'].min(), brew_data_df['createdAt'].max()"
   ]
  },
  {
   "cell_type": "markdown",
   "metadata": {},
   "source": [
    "### Convert to time series"
   ]
  },
  {
   "cell_type": "code",
   "execution_count": 5,
   "metadata": {},
   "outputs": [
    {
     "name": "stdout",
     "output_type": "stream",
     "text": [
      "Mean sampling rate 6.043230295971351\n"
     ]
    }
   ],
   "source": [
    "samplings = []\n",
    "\n",
    "for id_,ex in brew_data_df.iterrows():\n",
    "    data= ex['brew data'].split(';') \n",
    "    s= len(data)/ex['total time']\n",
    "    if s < 20:\n",
    "        samplings.append(s)\n",
    "print(f\"Mean sampling rate {np.mean(samplings)}\")"
   ]
  },
  {
   "cell_type": "code",
   "execution_count": 6,
   "metadata": {
    "scrolled": true
   },
   "outputs": [],
   "source": [
    "#f, axes = plt.subplots(brew_data_df.shape[0], 1, figsize=(200,40), sharey='row', sharex='col')\n",
    "#axe = axes.ravel()\n",
    "\n",
    "i=0\n",
    "time_series = []\n",
    "filtered_time_series = []\n",
    "time_lengths = []\n",
    "init_hours = {}\n",
    "final_hours = {}\n",
    "\n",
    "for id_,ex in brew_data_df.iterrows():\n",
    "    data= ex['brew data'].split(';')\n",
    "    data_num = [float(d) for d in data[:-1]]\n",
    "    \n",
    "    start_date = ex['createdAt']\n",
    "\n",
    "    freq= \"S\"\n",
    "    if len(data) < 5000:\n",
    "        freq= \"3S\"\n",
    "    elif (len(data)>5000) and (len(data)< 10000):\n",
    "        freq= \"2S\"\n",
    "        \n",
    "    ts_index = start_date + pd.timedelta_range(0, periods=len(data)-1, freq=freq)\n",
    "    ts= pd.Series(data_num, index=ts_index)\n",
    "    time_series.append(ts)\n",
    "    \n",
    "    h= ts.index[0].hour\n",
    "    ih = init_hours.get(h,0)\n",
    "    ih += 1\n",
    "    init_hours[h]=ih\n",
    "    \n",
    "    h= ts.index[-1].hour\n",
    "    fh = final_hours.get(h,0)\n",
    "    fh += 1\n",
    "    final_hours[h]=fh\n",
    "    \n",
    "    time_lengths.append((ts.index[-1]-ts.index[0]).seconds)\n",
    "    \n",
    "    ts_parts= seasonal_decompose(ts, model='additive', period=60)\n",
    "    filtered_time_series.append(ts_parts.trend.fillna(0))"
   ]
  },
  {
   "cell_type": "code",
   "execution_count": 7,
   "metadata": {},
   "outputs": [],
   "source": [
    "def generate_hour_plot_fn(hour_dict, hour_type):\n",
    "    for h in range(0,23):\n",
    "        v = hour_dict.get(h,0)\n",
    "        hour_dict[h]=v\n",
    "    df = pd.DataFrame.from_dict(hour_dict, orient='index')\n",
    "    df = df.sort_index()\n",
    "    \n",
    "    ax=df.plot(kind='bar', grid=True, legend=False)\n",
    "    ax.set_xlabel(f'{hour_type} hour of the experiment');\n",
    "    ax.set_ylabel('Number of experiments');\n",
    "    plt.tight_layout()\n",
    "    plt.savefig(os.path.join('figs',f\"{hour_type}_time_experiments.png\"))\n",
    "    \n",
    "    return df"
   ]
  },
  {
   "cell_type": "code",
   "execution_count": 8,
   "metadata": {},
   "outputs": [
    {
     "data": {
      "image/png": "[encoded data removed]",
      "text/plain": [
       "<Figure size 432x288 with 1 Axes>"
      ]
     },
     "metadata": {
      "needs_background": "light"
     },
     "output_type": "display_data"
    }
   ],
   "source": [
    "init_hours_df= generate_hour_plot_fn(init_hours, 'Start')"
   ]
  },
  {
   "cell_type": "code",
   "execution_count": 9,
   "metadata": {},
   "outputs": [
    {
     "data": {
      "text/html": [
       "<div>\n",
       "<style scoped>\n",
       "    .dataframe tbody tr th:only-of-type {\n",
       "        vertical-align: middle;\n",
       "    }\n",
       "\n",
       "    .dataframe tbody tr th {\n",
       "        vertical-align: top;\n",
       "    }\n",
       "\n",
       "    .dataframe thead th {\n",
       "        text-align: right;\n",
       "    }\n",
       "</style>\n",
       "<table border=\"1\" class=\"dataframe\">\n",
       "  <thead>\n",
       "    <tr style=\"text-align: right;\">\n",
       "      <th></th>\n",
       "      <th>0</th>\n",
       "    </tr>\n",
       "  </thead>\n",
       "  <tbody>\n",
       "    <tr>\n",
       "      <th>0</th>\n",
       "      <td>2</td>\n",
       "    </tr>\n",
       "    <tr>\n",
       "      <th>1</th>\n",
       "      <td>0</td>\n",
       "    </tr>\n",
       "    <tr>\n",
       "      <th>2</th>\n",
       "      <td>0</td>\n",
       "    </tr>\n",
       "    <tr>\n",
       "      <th>3</th>\n",
       "      <td>0</td>\n",
       "    </tr>\n",
       "    <tr>\n",
       "      <th>4</th>\n",
       "      <td>0</td>\n",
       "    </tr>\n",
       "  </tbody>\n",
       "</table>\n",
       "</div>"
      ],
      "text/plain": [
       "   0\n",
       "0  2\n",
       "1  0\n",
       "2  0\n",
       "3  0\n",
       "4  0"
      ]
     },
     "execution_count": 9,
     "metadata": {},
     "output_type": "execute_result"
    }
   ],
   "source": [
    "init_hours_df.head()"
   ]
  },
  {
   "cell_type": "code",
   "execution_count": 10,
   "metadata": {},
   "outputs": [
    {
     "data": {
      "image/png": "[encoded data removed]",
      "text/plain": [
       "<Figure size 432x288 with 1 Axes>"
      ]
     },
     "metadata": {
      "needs_background": "light"
     },
     "output_type": "display_data"
    }
   ],
   "source": [
    "final_hours_df= generate_hour_plot_fn(final_hours, 'Final')"
   ]
  },
  {
   "cell_type": "code",
   "execution_count": 11,
   "metadata": {},
   "outputs": [
    {
     "data": {
      "text/html": [
       "<div>\n",
       "<style scoped>\n",
       "    .dataframe tbody tr th:only-of-type {\n",
       "        vertical-align: middle;\n",
       "    }\n",
       "\n",
       "    .dataframe tbody tr th {\n",
       "        vertical-align: top;\n",
       "    }\n",
       "\n",
       "    .dataframe thead th {\n",
       "        text-align: right;\n",
       "    }\n",
       "</style>\n",
       "<table border=\"1\" class=\"dataframe\">\n",
       "  <thead>\n",
       "    <tr style=\"text-align: right;\">\n",
       "      <th></th>\n",
       "      <th>0</th>\n",
       "    </tr>\n",
       "  </thead>\n",
       "  <tbody>\n",
       "    <tr>\n",
       "      <th>0</th>\n",
       "      <td>20</td>\n",
       "    </tr>\n",
       "    <tr>\n",
       "      <th>1</th>\n",
       "      <td>13</td>\n",
       "    </tr>\n",
       "    <tr>\n",
       "      <th>2</th>\n",
       "      <td>11</td>\n",
       "    </tr>\n",
       "    <tr>\n",
       "      <th>3</th>\n",
       "      <td>13</td>\n",
       "    </tr>\n",
       "    <tr>\n",
       "      <th>4</th>\n",
       "      <td>4</td>\n",
       "    </tr>\n",
       "  </tbody>\n",
       "</table>\n",
       "</div>"
      ],
      "text/plain": [
       "    0\n",
       "0  20\n",
       "1  13\n",
       "2  11\n",
       "3  13\n",
       "4   4"
      ]
     },
     "execution_count": 11,
     "metadata": {},
     "output_type": "execute_result"
    }
   ],
   "source": [
    "final_hours_df.head()"
   ]
  },
  {
   "cell_type": "code",
   "execution_count": 12,
   "metadata": {},
   "outputs": [
    {
     "name": "stdout",
     "output_type": "stream",
     "text": [
      "Avg. length of the series 235.1784090909091\n",
      "Std. length of the series 65.48652919536099\n"
     ]
    }
   ],
   "source": [
    "#average_timedelta = sum(time_lengths, timedelta(0)) / len(time_lengths)\n",
    "\n",
    "print(f\"Avg. length of the series {np.mean(time_lengths)/60}\")\n",
    "print(f\"Std. length of the series {np.std(time_lengths)/60}\")\n"
   ]
  },
  {
   "cell_type": "code",
   "execution_count": 13,
   "metadata": {},
   "outputs": [],
   "source": [
    "def extract_num_items(ts):\n",
    "    prev_value= 0\n",
    "    prev_t = None\n",
    "    n_items =0\n",
    "    n_usages =0\n",
    "    for t, v in ts.iteritems():\n",
    "        if prev_t is None:\n",
    "            prev_t = t\n",
    "            prev_value= v\n",
    "        elif ((v - prev_value)>10):\n",
    "            #print(v, prev_value, t, prev_t, (t-prev_t).seconds)\n",
    "            n_items += 1\n",
    "            prev_value= v\n",
    "            if (t-prev_t).seconds > 300:\n",
    "                n_usages +=1\n",
    "                prev_t= t\n",
    "    return n_usages, n_items"
   ]
  },
  {
   "cell_type": "code",
   "execution_count": 14,
   "metadata": {},
   "outputs": [],
   "source": [
    "ts_features = []\n",
    "for ts in filtered_time_series:\n",
    "    m = ts.mean()\n",
    "    q25 = ts.quantile(0.25)\n",
    "    q75= ts.quantile(0.75)\n",
    "    usages, items = extract_num_items(ts)\n",
    "    ts_features.append((m,q25,q75,usages,items))"
   ]
  },
  {
   "cell_type": "code",
   "execution_count": 15,
   "metadata": {},
   "outputs": [],
   "source": [
    "ts_features_df = pd.DataFrame(ts_features, columns='mean q25 q75 usages items'.split())"
   ]
  },
  {
   "cell_type": "code",
   "execution_count": 16,
   "metadata": {},
   "outputs": [
    {
     "data": {
      "text/html": [
       "<div>\n",
       "<style scoped>\n",
       "    .dataframe tbody tr th:only-of-type {\n",
       "        vertical-align: middle;\n",
       "    }\n",
       "\n",
       "    .dataframe tbody tr th {\n",
       "        vertical-align: top;\n",
       "    }\n",
       "\n",
       "    .dataframe thead th {\n",
       "        text-align: right;\n",
       "    }\n",
       "</style>\n",
       "<table border=\"1\" class=\"dataframe\">\n",
       "  <thead>\n",
       "    <tr style=\"text-align: right;\">\n",
       "      <th></th>\n",
       "      <th>mean</th>\n",
       "      <th>q25</th>\n",
       "      <th>q75</th>\n",
       "      <th>usages</th>\n",
       "      <th>items</th>\n",
       "    </tr>\n",
       "  </thead>\n",
       "  <tbody>\n",
       "    <tr>\n",
       "      <th>0</th>\n",
       "      <td>28.993665</td>\n",
       "      <td>0.000000</td>\n",
       "      <td>46.900000</td>\n",
       "      <td>3</td>\n",
       "      <td>8</td>\n",
       "    </tr>\n",
       "    <tr>\n",
       "      <th>1</th>\n",
       "      <td>68.185021</td>\n",
       "      <td>45.785000</td>\n",
       "      <td>102.800000</td>\n",
       "      <td>4</td>\n",
       "      <td>11</td>\n",
       "    </tr>\n",
       "    <tr>\n",
       "      <th>2</th>\n",
       "      <td>31.089471</td>\n",
       "      <td>0.000000</td>\n",
       "      <td>48.758333</td>\n",
       "      <td>1</td>\n",
       "      <td>4</td>\n",
       "    </tr>\n",
       "    <tr>\n",
       "      <th>3</th>\n",
       "      <td>53.092575</td>\n",
       "      <td>39.101875</td>\n",
       "      <td>98.080833</td>\n",
       "      <td>4</td>\n",
       "      <td>11</td>\n",
       "    </tr>\n",
       "    <tr>\n",
       "      <th>4</th>\n",
       "      <td>55.228051</td>\n",
       "      <td>0.000833</td>\n",
       "      <td>76.620833</td>\n",
       "      <td>1</td>\n",
       "      <td>7</td>\n",
       "    </tr>\n",
       "  </tbody>\n",
       "</table>\n",
       "</div>"
      ],
      "text/plain": [
       "        mean        q25         q75  usages  items\n",
       "0  28.993665   0.000000   46.900000       3      8\n",
       "1  68.185021  45.785000  102.800000       4     11\n",
       "2  31.089471   0.000000   48.758333       1      4\n",
       "3  53.092575  39.101875   98.080833       4     11\n",
       "4  55.228051   0.000833   76.620833       1      7"
      ]
     },
     "execution_count": 16,
     "metadata": {},
     "output_type": "execute_result"
    }
   ],
   "source": [
    "ts_features_df.head()"
   ]
  },
  {
   "cell_type": "code",
   "execution_count": 17,
   "metadata": {},
   "outputs": [
    {
     "data": {
      "image/png": "[encoded data removed]",
      "text/plain": [
       "<Figure size 1152x576 with 1 Axes>"
      ]
     },
     "metadata": {
      "needs_background": "light"
     },
     "output_type": "display_data"
    }
   ],
   "source": [
    "ax=time_series[82].plot(figsize=(16,8), grid=True);\n",
    "ax.set_xlabel('Time',fontsize=18)\n",
    "ax.set_ylabel('Bin weight (g)', fontsize=18)\n",
    "plt.tight_layout()\n",
    "plt.savefig(os.path.join('figs','ts_example.png'))"
   ]
  },
  {
   "cell_type": "code",
   "execution_count": 18,
   "metadata": {},
   "outputs": [
    {
     "data": {
      "image/png": "[encoded data removed]",
      "text/plain": [
       "<Figure size 432x288 with 4 Axes>"
      ]
     },
     "metadata": {
      "needs_background": "light"
     },
     "output_type": "display_data"
    }
   ],
   "source": [
    "seasonal_decompose(time_series[82], model='additive', period=30).plot()\n",
    "plt.tight_layout()\n",
    "plt.savefig(os.path.join('figs','ts_example_decomp.png'))"
   ]
  },
  {
   "cell_type": "code",
   "execution_count": 19,
   "metadata": {
    "scrolled": true
   },
   "outputs": [
    {
     "data": {
      "image/png": "[encoded data removed]",
      "text/plain": [
       "<Figure size 1152x576 with 1 Axes>"
      ]
     },
     "metadata": {
      "needs_background": "light"
     },
     "output_type": "display_data"
    }
   ],
   "source": [
    "ax=filtered_time_series[82][:-1].plot(figsize=(16,8), grid=True);\n",
    "ax.set_xlabel('Time',fontsize=18)\n",
    "ax.set_ylabel('Bin weight (g)', fontsize=18)\n",
    "plt.tight_layout()\n",
    "plt.savefig(os.path.join('figs','ts_example_filtered.png'))"
   ]
  },
  {
   "cell_type": "markdown",
   "metadata": {},
   "source": [
    "## Generate clusters of time series"
   ]
  },
  {
   "cell_type": "code",
   "execution_count": 20,
   "metadata": {},
   "outputs": [],
   "source": [
    "from sklearn.cluster import KMeans"
   ]
  },
  {
   "cell_type": "code",
   "execution_count": 21,
   "metadata": {},
   "outputs": [
    {
     "data": {
      "image/png": "[encoded data removed]",
      "text/plain": [
       "<Figure size 432x288 with 1 Axes>"
      ]
     },
     "metadata": {
      "needs_background": "light"
     },
     "output_type": "display_data"
    }
   ],
   "source": [
    "distortions = []\n",
    "for i in range(1, 11):\n",
    "    km = KMeans(\n",
    "        n_clusters=i, init='random',\n",
    "        n_init=10, max_iter=300,\n",
    "        tol=1e-04, random_state=0\n",
    "    )\n",
    "    km.fit(ts_features_df)\n",
    "    distortions.append(km.inertia_)\n",
    "\n",
    "# plot\n",
    "plt.plot(range(1, 11), distortions, marker='o')\n",
    "plt.grid()\n",
    "plt.xlabel('Number of clusters')\n",
    "plt.ylabel('Silhouette score')\n",
    "plt.tight_layout()\n",
    "plt.savefig(os.path.join('figs', 'sil_score.png'))\n",
    "plt.show()\n"
   ]
  },
  {
   "cell_type": "code",
   "execution_count": 22,
   "metadata": {},
   "outputs": [],
   "source": [
    "km = KMeans(n_clusters=3)\n",
    "y_km = km.fit_predict(ts_features_df)"
   ]
  },
  {
   "cell_type": "code",
   "execution_count": 23,
   "metadata": {},
   "outputs": [
    {
     "data": {
      "text/plain": [
       "array([[129.64105306,  74.83195602, 188.94940972,   4.09259259,\n",
       "         21.51851852],\n",
       "       [ 47.37317051,  22.38555237,  72.39039373,   2.4587156 ,\n",
       "          8.7706422 ],\n",
       "       [274.40662767, 188.86310897, 398.44197115,   4.38461538,\n",
       "         38.92307692]])"
      ]
     },
     "execution_count": 23,
     "metadata": {},
     "output_type": "execute_result"
    }
   ],
   "source": [
    "km.cluster_centers_"
   ]
  },
  {
   "cell_type": "code",
   "execution_count": 25,
   "metadata": {},
   "outputs": [
    {
     "data": {
      "text/plain": [
       "176"
      ]
     },
     "execution_count": 25,
     "metadata": {},
     "output_type": "execute_result"
    }
   ],
   "source": [
    "len(km.labels_)"
   ]
  },
  {
   "cell_type": "code",
   "execution_count": 26,
   "metadata": {},
   "outputs": [],
   "source": [
    "brew_data_df['cluster']= km.labels_"
   ]
  },
  {
   "cell_type": "code",
   "execution_count": 27,
   "metadata": {},
   "outputs": [],
   "source": [
    "brew_data_df.to_csv(os.path.join('data', 'brew_data_with_label.csv'))"
   ]
  },
  {
   "cell_type": "markdown",
   "metadata": {},
   "source": [
    "## Prediction mechanisms"
   ]
  },
  {
   "cell_type": "markdown",
   "metadata": {},
   "source": [
    "# Prophet"
   ]
  },
  {
   "cell_type": "markdown",
   "metadata": {},
   "source": [
    "We focus on one experiment"
   ]
  },
  {
   "cell_type": "code",
   "execution_count": null,
   "metadata": {},
   "outputs": [],
   "source": [
    "data= brew_data_df[brew_data_df['id']=='a9PSHhDkbr']['brew data'].values[0].split(';')"
   ]
  },
  {
   "cell_type": "markdown",
   "metadata": {},
   "source": [
    "Prepare the data for propeth"
   ]
  },
  {
   "cell_type": "code",
   "execution_count": null,
   "metadata": {},
   "outputs": [],
   "source": [
    "data_num = [float(d) for d in data[:-1]]\n",
    "df = pd.DataFrame(data=data_num, columns=['y'])"
   ]
  },
  {
   "cell_type": "code",
   "execution_count": null,
   "metadata": {},
   "outputs": [],
   "source": [
    "delta = timedelta(microseconds=20000)\n",
    "\n",
    "times = []\n",
    "now= datetime.today()\n",
    "\n",
    "#current time\n",
    "for i in range(0, df.shape[0]):\n",
    "    times.append(now)#.strftime('%H:%M:%S'))\n",
    "    now += delta\n",
    "\n",
    "#times to predict\n",
    "future = []\n",
    "for i in range(0, 10000):\n",
    "    future.append(now)#.strftime('%H:%M:%S'))\n",
    "    now += delta   "
   ]
  },
  {
   "cell_type": "code",
   "execution_count": null,
   "metadata": {},
   "outputs": [],
   "source": [
    "df['ds'] = times"
   ]
  },
  {
   "cell_type": "code",
   "execution_count": null,
   "metadata": {},
   "outputs": [],
   "source": [
    "df.tail()"
   ]
  },
  {
   "cell_type": "code",
   "execution_count": null,
   "metadata": {},
   "outputs": [],
   "source": [
    "# define the model\n",
    "model = Prophet()\n",
    "# fit the model\n",
    "model.fit(df);"
   ]
  },
  {
   "cell_type": "code",
   "execution_count": null,
   "metadata": {},
   "outputs": [],
   "source": [
    "future = pd.DataFrame(future)\n",
    "future.columns = ['ds']\n",
    "future['ds']= pd.to_datetime(future['ds'])\n",
    "# use the model to make a forecast\n",
    "forecast = model.predict(future)"
   ]
  },
  {
   "cell_type": "code",
   "execution_count": null,
   "metadata": {
    "scrolled": true
   },
   "outputs": [],
   "source": [
    "model.plot(forecast)\n",
    "plt.show()"
   ]
  },
  {
   "cell_type": "markdown",
   "metadata": {},
   "source": [
    "## Auto ARIMA"
   ]
  },
  {
   "cell_type": "markdown",
   "metadata": {},
   "source": [
    "https://github.com/mkosaka1/AirPassengers_TimeSeries/blob/master/Time_Series.ipynb"
   ]
  },
  {
   "cell_type": "code",
   "execution_count": null,
   "metadata": {},
   "outputs": [],
   "source": [
    "df_ts = df.set_index('ds')"
   ]
  },
  {
   "cell_type": "code",
   "execution_count": null,
   "metadata": {},
   "outputs": [],
   "source": [
    "df_ts.shape[0]"
   ]
  },
  {
   "cell_type": "code",
   "execution_count": null,
   "metadata": {},
   "outputs": [],
   "source": [
    "train = df_ts[:18000]\n",
    "test = df_ts[18000:]"
   ]
  },
  {
   "cell_type": "code",
   "execution_count": null,
   "metadata": {},
   "outputs": [],
   "source": [
    "train"
   ]
  },
  {
   "cell_type": "code",
   "execution_count": null,
   "metadata": {},
   "outputs": [],
   "source": [
    "model=auto_arima(train,start_p=0,d=1,start_q=0,\n",
    "          max_p=5,max_d=5,max_q=5, start_P=0,\n",
    "          D=1, start_Q=0, max_P=5,max_D=5,\n",
    "          max_Q=5, m=12, seasonal=True,\n",
    "          error_action='warn',trace=True,\n",
    "          supress_warnings=True,stepwise=True,\n",
    "          random_state=20,n_fits=50)"
   ]
  },
  {
   "cell_type": "code",
   "execution_count": null,
   "metadata": {},
   "outputs": [],
   "source": [
    "model.summary()\n"
   ]
  },
  {
   "cell_type": "code",
   "execution_count": null,
   "metadata": {},
   "outputs": [],
   "source": [
    "prediction = pd.DataFrame(model.predict(n_periods = 30),index=test.index)\n",
    "prediction.columns = ['predicted_passengers']\n",
    "prediction"
   ]
  },
  {
   "cell_type": "code",
   "execution_count": null,
   "metadata": {},
   "outputs": [],
   "source": [
    "plt.figure(figsize=(8,5))\n",
    "plt.plot(train,label=\"Training\")\n",
    "plt.plot(test,label=\"Test\")\n",
    "plt.plot(prediction,label=\"Predicted\")\n",
    "plt.legend(loc = 'upper left')\n",
    "plt.show()"
   ]
  },
  {
   "cell_type": "code",
   "execution_count": null,
   "metadata": {},
   "outputs": [],
   "source": [
    "print(\"That's all folks\")"
   ]
  }
 ],
 "metadata": {
  "kernelspec": {
   "display_name": "Python 3",
   "language": "python",
   "name": "python3"
  },
  "language_info": {
   "codemirror_mode": {
    "name": "ipython",
    "version": 3
   },
   "file_extension": ".py",
   "mimetype": "text/x-python",
   "name": "python",
   "nbconvert_exporter": "python",
   "pygments_lexer": "ipython3",
   "version": "3.8.5"
  }
 },
 "nbformat": 4,
 "nbformat_minor": 2
}
